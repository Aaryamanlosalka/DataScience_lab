{
 "cells": [
  {
   "cell_type": "code",
   "execution_count": 1,
   "id": "520128f6-80b0-4aa4-9215-c5b8ab418e5a",
   "metadata": {},
   "outputs": [
    {
     "name": "stdout",
     "output_type": "stream",
     "text": [
      "✅ RemoteOK jobs saved in 'remoteok_jobs.csv' with clean columns!\n"
     ]
    }
   ],
   "source": [
    "import requests\n",
    "import pandas as pd\n",
    "\n",
    "url = \"https://remoteok.com/api\"\n",
    "\n",
    "response = requests.get(url, headers={\"User-Agent\": \"Mozilla/5.0\"})\n",
    "\n",
    "if response.status_code == 200:\n",
    "    data = response.json()\n",
    "\n",
    "    jobs = data[1:]\n",
    "\n",
    "    job_list = []\n",
    "    for job in jobs:\n",
    "        company = job.get(\"company\", \"\").strip()\n",
    "        role = job.get(\"position\", \"\").strip()\n",
    "        location = job.get(\"location\", \"\").strip()\n",
    "        tags = \", \".join(job.get(\"tags\", []))\n",
    "\n",
    "        job_list.append({\n",
    "            \"Company Name\": company,\n",
    "            \"Job Role\": role,\n",
    "            \"Location\": location,\n",
    "            \"Tags/Features\": tags\n",
    "        })\n",
    "\n",
    " \n",
    "    df = pd.DataFrame(job_list)\n",
    "\n",
    "   \n",
    "    df.to_csv(\"remoteok_jobs.csv\", index=False, encoding=\"utf-8\")\n",
    "    print(\" RemoteOK jobs saved in 'remoteok_jobs.csv' with clean columns!\")\n",
    "\n",
    "else:\n",
    "    print(f\"Failed to fetch data. Status code: {response.status_code}\")\n"
   ]
  },
  {
   "cell_type": "code",
   "execution_count": null,
   "id": "43e7f212-063b-4b60-b280-aaefa0e42ddd",
   "metadata": {},
   "outputs": [],
   "source": []
  }
 ],
 "metadata": {
  "kernelspec": {
   "display_name": "Python [conda env:base] *",
   "language": "python",
   "name": "conda-base-py"
  },
  "language_info": {
   "codemirror_mode": {
    "name": "ipython",
    "version": 3
   },
   "file_extension": ".py",
   "mimetype": "text/x-python",
   "name": "python",
   "nbconvert_exporter": "python",
   "pygments_lexer": "ipython3",
   "version": "3.13.5"
  }
 },
 "nbformat": 4,
 "nbformat_minor": 5
}
