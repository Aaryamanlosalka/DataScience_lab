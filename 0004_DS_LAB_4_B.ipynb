{
 "cells": [
  {
   "cell_type": "code",
   "execution_count": 1,
   "id": "0b3fbd1b-c248-4989-a62a-e7846bf69df5",
   "metadata": {},
   "outputs": [
    {
     "name": "stdout",
     "output_type": "stream",
     "text": [
      "=== Z-Test Results ===\n",
      "Sample Mean: 50866.67, n = 30\n",
      "Z-statistic: 1.8988\n",
      "\n",
      "Two-tailed p-value: 0.0576\n",
      "➡ Fail to reject H0: No significant difference\n",
      "\n",
      "One-tailed p-value: 0.0288\n",
      "➡ Reject H0: Mean salary is greater than 50,000\n"
     ]
    }
   ],
   "source": [
    "\"\"\"\n",
    "Z-Test (Large Sample, n = 30)\n",
    "\n",
    "Dataset: z_test_data.csv\n",
    "Industry Standard (μ0) = 50,000\n",
    "Population Std Dev (σ) = 2,500 → Use z-test\n",
    "Significance Level (α) = 0.05\n",
    "\n",
    "Questions:\n",
    "1. Two-tailed test: Test whether the average salary of employees differs from the industry standard of $50,000.\n",
    "   H0: μ = 50,000\n",
    "   H1: μ ≠ 50,000\n",
    "\n",
    "2. One-tailed test (Right-tailed): Test whether the average salary of employees is greater than $50,000.\n",
    "   H0: μ ≤ 50,000\n",
    "   H1: μ > 50,000\n",
    "\"\"\"\n",
    "\n",
    "import pandas as pd\n",
    "import numpy as np\n",
    "from scipy import stats\n",
    "\n",
    "# Load dataset\n",
    "z_data = pd.read_csv(\"z_test_data.csv\")\n",
    "\n",
    "# Parameters\n",
    "mu_0 = 50000\n",
    "sigma = 2500\n",
    "alpha = 0.05\n",
    "\n",
    "# Sample stats\n",
    "sample_mean = z_data[\"Salary\"].mean()\n",
    "n = len(z_data)\n",
    "\n",
    "z_stat = (sample_mean - mu_0) / (sigma / np.sqrt(n))\n",
    "\n",
    "p_value_two_tailed = 2 * (1 - stats.norm.cdf(abs(z_stat)))\n",
    "\n",
    "p_value_one_tailed = 1 - stats.norm.cdf(z_stat)\n",
    "\n",
    "print(\"=== Z-Test Results ===\")\n",
    "print(f\"Sample Mean: {sample_mean:.2f}, n = {n}\")\n",
    "print(f\"Z-statistic: {z_stat:.4f}\")\n",
    "\n",
    "print(f\"\\nTwo-tailed p-value: {p_value_two_tailed:.4f}\")\n",
    "if p_value_two_tailed < alpha:\n",
    "    print(\"➡ Reject H0: Mean salary differs from 50,000\")\n",
    "else:\n",
    "    print(\"➡ Fail to reject H0: No significant difference\")\n",
    "\n",
    "print(f\"\\nOne-tailed p-value: {p_value_one_tailed:.4f}\")\n",
    "if p_value_one_tailed < alpha:\n",
    "    print(\"➡ Reject H0: Mean salary is greater than 50,000\")\n",
    "else:\n",
    "    print(\"➡ Fail to reject H0: Not enough evidence mean > 50,000\")\n"
   ]
  },
  {
   "cell_type": "code",
   "execution_count": null,
   "id": "6c775bed-cbe3-43a1-82e9-3f03987b716d",
   "metadata": {},
   "outputs": [],
   "source": []
  }
 ],
 "metadata": {
  "kernelspec": {
   "display_name": "Python [conda env:base] *",
   "language": "python",
   "name": "conda-base-py"
  },
  "language_info": {
   "codemirror_mode": {
    "name": "ipython",
    "version": 3
   },
   "file_extension": ".py",
   "mimetype": "text/x-python",
   "name": "python",
   "nbconvert_exporter": "python",
   "pygments_lexer": "ipython3",
   "version": "3.13.5"
  }
 },
 "nbformat": 4,
 "nbformat_minor": 5
}
