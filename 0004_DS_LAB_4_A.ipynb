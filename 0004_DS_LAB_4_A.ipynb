{
 "cells": [
  {
   "cell_type": "code",
   "execution_count": 7,
   "id": "df1c2406-0123-4461-94bb-789fe9eef26a",
   "metadata": {},
   "outputs": [
    {
     "name": "stdout",
     "output_type": "stream",
     "text": [
      "=== T-Test Results ===\n",
      "Sample Mean: 51250.00, Sample Std Dev: 1844.66, n = 10\n",
      "T-statistic: 2.1429\n",
      "\n",
      "Two-tailed p-value: 0.0607\n",
      "➡ Fail to reject H0: No significant difference\n",
      "\n",
      "One-tailed p-value: 0.9696\n",
      "➡ Fail to reject H0: Not enough evidence mean < 50,000\n"
     ]
    }
   ],
   "source": [
    "\"\"\"\n",
    "T-Test (Small Sample, n = 10)\n",
    "\n",
    "Dataset: t_test_data.csv\n",
    "Industry Standard (μ0) = 50,000\n",
    "Population Std Dev = Unknown → Use t-test\n",
    "Significance Level (α) = 0.05\n",
    "\n",
    "Questions:\n",
    "1. Two-tailed test: Test whether the average salary of employees differs from the industry standard of $50,000.\n",
    "   H0: μ = 50,000\n",
    "   H1: μ ≠ 50,000\n",
    "\n",
    "2. One-tailed test (Left-tailed): Test whether the average salary of employees is less than $50,000.\n",
    "   H0: μ ≥ 50,000\n",
    "   H1: μ < 50,000\n",
    "\"\"\"\n",
    "\n",
    "import pandas as pd\n",
    "import numpy as np\n",
    "from scipy import stats\n",
    "\n",
    "t_data = pd.read_csv(\"t_test_data.csv\")\n",
    "\n",
    "mu_0 = 50000\n",
    "alpha = 0.05\n",
    "\n",
    "sample_mean = t_data[\"Salary\"].mean()\n",
    "sample_std = t_data[\"Salary\"].std(ddof=1)\n",
    "n = len(t_data)\n",
    "\n",
    "t_stat = (sample_mean - mu_0) / (sample_std / np.sqrt(n))\n",
    "\n",
    "p_value_two_tailed = 2 * (1 - stats.t.cdf(abs(t_stat), df=n-1))\n",
    "\n",
    "p_value_one_tailed = stats.t.cdf(t_stat, df=n-1)\n",
    "\n",
    "print(\"=== T-Test Results ===\")\n",
    "print(f\"Sample Mean: {sample_mean:.2f}, Sample Std Dev: {sample_std:.2f}, n = {n}\")\n",
    "print(f\"T-statistic: {t_stat:.4f}\")\n",
    "\n",
    "print(f\"\\nTwo-tailed p-value: {p_value_two_tailed:.4f}\")\n",
    "if p_value_two_tailed < alpha:\n",
    "    print(\"➡ Reject H0: Mean salary differs from 50,000\")\n",
    "else:\n",
    "    print(\"➡ Fail to reject H0: No significant difference\")\n",
    "\n",
    "print(f\"\\nOne-tailed p-value: {p_value_one_tailed:.4f}\")\n",
    "if p_value_one_tailed < alpha:\n",
    "    print(\"➡ Reject H0: Mean salary is less than 50,000\")\n",
    "else:\n",
    "    print(\"➡ Fail to reject H0: Not enough evidence mean < 50,000\")\n"
   ]
  },
  {
   "cell_type": "code",
   "execution_count": null,
   "id": "1558d9c0-e531-4872-a62d-4d6031b8879d",
   "metadata": {},
   "outputs": [],
   "source": []
  }
 ],
 "metadata": {
  "kernelspec": {
   "display_name": "Python [conda env:base] *",
   "language": "python",
   "name": "conda-base-py"
  },
  "language_info": {
   "codemirror_mode": {
    "name": "ipython",
    "version": 3
   },
   "file_extension": ".py",
   "mimetype": "text/x-python",
   "name": "python",
   "nbconvert_exporter": "python",
   "pygments_lexer": "ipython3",
   "version": "3.13.5"
  }
 },
 "nbformat": 4,
 "nbformat_minor": 5
}
